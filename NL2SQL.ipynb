{
  "cells": [
    {
      "cell_type": "markdown",
      "metadata": {
        "id": "4cQokojl71Fk"
      },
      "source": [
        "# DB Test"
      ]
    },
    {
      "cell_type": "code",
      "execution_count": 126,
      "metadata": {
        "colab": {
          "base_uri": "https://localhost:8080/"
        },
        "collapsed": true,
        "id": "8x-5sG1A7r5i",
        "outputId": "be72518c-5204-4e86-85a0-c4990473639e"
      },
      "outputs": [
        {
          "name": "stdout",
          "output_type": "stream",
          "text": [
            "(None,)\n"
          ]
        }
      ],
      "source": [
        "import pandas as pd\n",
        "from sqlalchemy import create_engine, text\n",
        "from sqlalchemy.orm import sessionmaker\n",
        "\n",
        "# Load CSV data into DataFrame\n",
        "csv_file = 'src.csv'\n",
        "data = pd.read_csv(csv_file)\n",
        "\n",
        "# Create a SQLite database in memory\n",
        "engine = create_engine('sqlite:///:memory:')\n",
        "\n",
        "# Write data from DataFrame to SQL table\n",
        "data.to_sql('contributions', con=engine, index=False, if_exists='replace')\n",
        "\n",
        "# Create a session\n",
        "Session = sessionmaker(bind=engine)\n",
        "session = Session()\n",
        "\n",
        "# Define and execute a SQL query\n",
        "sql_query = text(\"SELECT MAX(CAST(REPLACE(REPLACE(amount,'$',''),',','') AS DECIMAL(10, 2))) as max_donation FROM contributions WHERE contrib LIKE '%SBF%';\")\n",
        "result = session.execute(sql_query)\n",
        "\n",
        "# Output results\n",
        "for row in result:\n",
        "    print(row)\n",
        "\n",
        "# Close session\n",
        "session.close()\n"
      ]
    },
    {
      "cell_type": "markdown",
      "metadata": {
        "id": "UlHSJCmQ5EDn"
      },
      "source": [
        "# Approach 1: OpenAI without LangChain"
      ]
    },
    {
      "cell_type": "markdown",
      "metadata": {
        "id": "8At6Pfx53mEW"
      },
      "source": [
        "## Data Prep"
      ]
    },
    {
      "cell_type": "code",
      "execution_count": 127,
      "metadata": {
        "collapsed": true,
        "id": "LmKnPGcJg4CZ"
      },
      "outputs": [],
      "source": [
        "import pandas as pd\n",
        "df = pd.read_csv('src.csv')\n",
        "# print(df)\n"
      ]
    },
    {
      "cell_type": "code",
      "execution_count": 128,
      "metadata": {
        "collapsed": true,
        "id": "3oKfJCLIuSHz"
      },
      "outputs": [],
      "source": [
        "sample_data = df.sample(10)\n",
        "\n",
        "# Print the sample data\n",
        "# print(sample_data)"
      ]
    },
    {
      "cell_type": "code",
      "execution_count": 129,
      "metadata": {
        "id": "npk1BVWJ4jgF"
      },
      "outputs": [],
      "source": [
        "ten_samples = \"\"\"     cycle State/Federal    contribid                contrib            City  \\\n",
        "204   2022       Federal  U0000004705  BANKMAN-FRIED, SAMUEL          NASSAU\n",
        "305   2022       Federal  U0000004705  BANKMAN-FRIED, SAMUEL  NEW PROVIDENCE\n",
        "89    2018       Federal  q0002756854           WANG, ZIXIAO        BERKELEY\n",
        "8     2022       Federal  j1001936195           WETJEN, MARK      WASHINGTON\n",
        "411   2022       Federal  U0000004758           SALAME, RYAN     SANDISFIELD\n",
        "101   2020       Federal  r0001512770       ORNELAS, DELANEY   PLEASANT HILL\n",
        "74    2022       Federal  q0002456364          SINGH, NISHAD               S\n",
        "371   2022       Federal  U0000004758           SALAME, RYAN     SANDISFIELD\n",
        "362   2022       Federal  U0000004758           SALAME, RYAN     SANDISFIELD\n",
        "127   2022       Federal  s0007032504    RHEINGANS-YOO, ROSS  NASSAU BAHAMAS\n",
        "\n",
        "    State    Zip                       Fecoccemp  \\\n",
        "204   NaN      0                             FTX\n",
        "305    CA  Nassa                    NOT EMPLOYED\n",
        "89     CA  94704                ALAMEDA RESEARCH\n",
        "8      DC  20017                          FTX US\n",
        "411    MA   1255                             FTX\n",
        "101    CA  94523                ALAMEDA RESEARCH\n",
        "74     ZZ      0                             FTX\n",
        "371    MA   1255                             FTX\n",
        "362    MA   1255                             FTX\n",
        "127    ZZ      0  ALAMEDA RESEARCH (BAHAMAS) LTD\n",
        "\n",
        "                            orgname  ultorg        date    amount    recipid  \\\n",
        "204                          FTX.US     NaN   4/22/2022  $300,000  C00811653\n",
        "305                          FTX.US     NaN   3/31/2022    $2,900  N00050171\n",
        "89                 Alameda Research     NaN  10/29/2018      $150  N00042604\n",
        "8                            FTX.US     NaN   1/25/2022    $2,900  N00036944\n",
        "411                          FTX.US     NaN    8/3/2022    $2,900  N00046030\n",
        "101                Alameda Research     NaN   4/17/2019        $5  N00036915\n",
        "74                           FTX.US     NaN   9/23/2022    $2,900  N00050407\n",
        "371             FTX Digital Markets  FTX.US   4/12/2022    $2,900  N00037427\n",
        "362                          FTX.US     NaN   5/26/2022    $5,800  N00029404\n",
        "127  Alameda Research (Bahamas) Ltd     NaN   7/10/2022    $2,900  N00041983\n",
        "\n",
        "                    recipient party recipcode type           fectransid   pg  \\\n",
        "204  Opportunity for Tomorrow   NaN        OI   10  4061720221530316833    P\n",
        "305            Flynn, Carrick     D        DL  15E  4050520221474523946    P\n",
        "89             Tucker, Clarke     D        DL  15E           W102131428  NaN\n",
        "8            Gottheimer, Josh     D        DI   15  4060920221500945179    P\n",
        "411         Garbarino, Andrew     R        RI  15E  4081220221564726924    G\n",
        "101            Harris, Kamala     D        DI  15E           F504456602  NaN\n",
        "74              Jackson, Jeff     D        DO   15           S201493206    G\n",
        "371             Houchin, Erin     R        RO  15E  4081220221564038101    G\n",
        "362               Zeldin, Lee     R        RI   15  4072820221553000975    P\n",
        "127              Patel, Suraj     D        DL  15E  4081520221564809869    P\n",
        "\n",
        "        cmteid\n",
        "204  C00811653\n",
        "305  C00802058\n",
        "89   C00671156\n",
        "8    C00573949\n",
        "411  C00729954\n",
        "101  C00694455\n",
        "74   C00767400\n",
        "371  C00800649\n",
        "362  C00552547\n",
        "127  C00720912  \"\"\""
      ]
    },
    {
      "cell_type": "code",
      "execution_count": 130,
      "metadata": {
        "id": "Ee0QOwdq6spk"
      },
      "outputs": [],
      "source": [
        "train_queries = {\n",
        "    \"1. Find total contribution amounts for each cycle\": {\n",
        "        \"description\": \"Calculate the total amount of contributions for each election cycle.\",\n",
        "        \"sql\": \"SELECT cycle, SUM(CAST(REPLACE(amount, '$', '') AS DECIMAL(10,2))) AS total_amount FROM contributions GROUP BY cycle;\"\n",
        "    },\n",
        "    \"2. List all contributors from California\": {\n",
        "        \"description\": \"Retrieve all distinct contributors who are based in California.\",\n",
        "        \"sql\": \"SELECT DISTINCT contrib FROM contributions WHERE state = 'CA';\"\n",
        "    },\n",
        "    \"3. Count contributions per state\": {\n",
        "        \"description\": \"Count the number of contributions coming from each state.\",\n",
        "        \"sql\": \"SELECT state, COUNT(*) AS num_contributions FROM contributions GROUP BY state;\"\n",
        "    },\n",
        "    \"4. Find the largest single contribution in 2022\": {\n",
        "        \"description\": \"Identify the highest contribution amount made in the year 2022.\",\n",
        "        \"sql\": \"SELECT MAX(CAST(REPLACE(amount, '$', '') AS DECIMAL(10,2))) AS max_contribution FROM contributions WHERE cycle = 2022;\"\n",
        "    },\n",
        "    \"5. List contributions over $10,000\": {\n",
        "        \"description\": \"Retrieve all contributions that are greater than $10,000.\",\n",
        "        \"sql\": \"SELECT * FROM contributions WHERE CAST(REPLACE(amount, '$', '') AS DECIMAL(10,2)) > 10000;\"\n",
        "    },\n",
        "    \"6. Count contributions by type for federal elections\": {\n",
        "        \"description\": \"Count the number of contributions by type specifically for federal elections.\",\n",
        "        \"sql\": \"SELECT type, COUNT(*) AS count FROM contributions WHERE state_federal = 'Federal' GROUP BY type;\"\n",
        "    },\n",
        "    \"7. Find average contribution amount in 2022\": {\n",
        "        \"description\": \"Calculate the average contribution amount for the year 2022.\",\n",
        "        \"sql\": \"SELECT AVG(CAST(REPLACE(amount, '$', '') AS DECIMAL(10,2))) AS average_amount FROM contributions WHERE cycle = 2022;\"\n",
        "    },\n",
        "    \"8. List all contributions from a specific contributor\": {\n",
        "        \"description\": \"List all contributions made by the contributor named 'John Doe'.\",\n",
        "        \"sql\": \"SELECT * FROM contributions WHERE contrib = 'John Doe';\"\n",
        "    },\n",
        "    \"9. Show details of contributions made on '2022-09-01'\": {\n",
        "        \"description\": \"Retrieve details of all contributions made on September 1, 2022.\",\n",
        "        \"sql\": \"SELECT * FROM contributions WHERE date = '2022-09-01';\"\n",
        "    },\n",
        "    \"10. Find contributions without a registered party\": {\n",
        "        \"description\": \"Retrieve all contributions where no political party is registered.\",\n",
        "        \"sql\": \"SELECT * FROM contributions WHERE party IS NULL;\"\n",
        "    }\n",
        "}\n"
      ]
    },
    {
      "cell_type": "code",
      "execution_count": 131,
      "metadata": {
        "id": "6z_MXq6el43y"
      },
      "outputs": [],
      "source": [
        "context = \"\"\"\n",
        "Dataset Description:\n",
        "The dataset provided contains information about contributions from various contributors to different recipients. The data includes details such as contribution amount, contributor information, recipient information, dates, and states. Here is a snapshot of the dataset structure:\n",
        "\n",
        "- cycle: The election cycle year.\n",
        "- State/Federal: Indicates if the contribution is for state or federal elections.\n",
        "- contribid: Unique identifier for the contributor.\n",
        "- contrib: Name of the contributor.\n",
        "- City: City of the contributor.\n",
        "- State: State of the contributor.\n",
        "- Zip: Zip code of the contributor.\n",
        "- Fecoccemp: Occupation/employer of the contributor.\n",
        "- orgname: Organization name associated with the contribution.\n",
        "- ultorg: Ultimate organization associated with the contribution.\n",
        "- date: Date of the contribution.\n",
        "- amount: Contribution amount.\n",
        "- recipid: Unique identifier for the recipient.\n",
        "- recipient: Name of the recipient.\n",
        "- party: Political party of the recipient.\n",
        "- recipcode: Recipient code.\n",
        "- type: Type of contribution.\n",
        "- fectransid: FEC transaction ID.\n",
        "- pg: Page number.\n",
        "- cmteid: Committee ID.\n",
        "\"\"\"\n",
        "\n",
        "cautions = \"the column named 'amount' in the table is a string that start with '$' and contains ',', any query try to calculate the amount should reformat the string into integer.\"\n",
        "cautions += \"for columns like 'recipient' and 'contrib', 'orgname', and 'Fecoccemp' these are strings that could be queried by user through short hand references, such as calling 'WETJEN, MARK' 'MW' or W,M\""
      ]
    },
    {
      "cell_type": "code",
      "execution_count": 132,
      "metadata": {
        "id": "oznFnAOYrOKX"
      },
      "outputs": [],
      "source": [
        "table_structure = \"\"\"\n",
        "CREATE TABLE contributions (\n",
        "    cycle INT,\n",
        "    state_federal VARCHAR(50),\n",
        "    contribid VARCHAR(255),\n",
        "    contrib VARCHAR(255),\n",
        "    city VARCHAR(255),\n",
        "    state CHAR(2),\n",
        "    zip CHAR(10),\n",
        "    fecoccemp VARCHAR(255),\n",
        "    orgname VARCHAR(255),\n",
        "    ultorg VARCHAR(255),\n",
        "    date DATE,\n",
        "    amount DECIMAL(10, 2),\n",
        "    recipid VARCHAR(255),\n",
        "    recipient VARCHAR(255),\n",
        "    party CHAR(1),\n",
        "    recipcode CHAR(2),\n",
        "    type VARCHAR(50),\n",
        "    fectransid VARCHAR(255),\n",
        "    pg VARCHAR(10),\n",
        "    cmteid VARCHAR(255)\n",
        ");\n",
        "\"\"\""
      ]
    },
    {
      "cell_type": "code",
      "execution_count": 133,
      "metadata": {
        "id": "T1NQFB_M5qtS"
      },
      "outputs": [],
      "source": [
        "data_summary = {\n",
        "    'cycle': 'INT - Year of the election cycle, 4-digit year.',\n",
        "    'state_federal': 'VARCHAR(50) - Indicates if the contribution is for state or federal elections.',\n",
        "    'contribid': 'VARCHAR(255) - Unique identifier for the contributor.',\n",
        "    'contrib': 'VARCHAR(255) - Name of the contributor.',\n",
        "    'city': 'VARCHAR(255) - City of the contributor.',\n",
        "    'state': 'CHAR(2) - State of the contributor, two-letter abbreviation.',\n",
        "    'zip': 'CHAR(10) - Zip code of the contributor.',\n",
        "    'fecoccemp': 'VARCHAR(255) - Occupation/employer of the contributor.',\n",
        "    'orgname': 'VARCHAR(255) - Organization name associated with the contribution.',\n",
        "    'ultorg': 'VARCHAR(255) - Ultimate organization associated with the contribution.',\n",
        "    'date': 'DATE - Date of the contribution.',\n",
        "    'amount': 'DECIMAL(10, 2) - Contribution amount.',\n",
        "    'recipid': 'VARCHAR(255) - Unique identifier for the recipient.',\n",
        "    'recipient': 'VARCHAR(255) - Name of the recipient.',\n",
        "    'party': 'CHAR(1) - Political party of the recipient.',\n",
        "    'recipcode': 'CHAR(2) - Recipient code.',\n",
        "    'type': 'VARCHAR(50) - Type of contribution.',\n",
        "    'fectransid': 'VARCHAR(255) - FEC transaction ID.',\n",
        "    'pg': 'VARCHAR(10) - Page number.',\n",
        "    'cmteid': 'VARCHAR(255) - Committee ID.'\n",
        "}"
      ]
    },
    {
      "cell_type": "code",
      "execution_count": 134,
      "metadata": {
        "id": "TgkqxrhunDuK"
      },
      "outputs": [],
      "source": [
        "test_queries = \"\"\" Find total contributions by each contributor.\n",
        "List all contributions made in the year 2022.\n",
        "Find the top 5 recipients who received the highest total contributions.\n",
        "Count the number of contributions made by contributors from the state of California (CA).\n",
        "Find the average contribution amount.\n",
        "Tell me the maximum donation done by SBF.\n",
        "\"\"\"\n",
        "\n",
        "test_query1 = \"Find the average contribution amount.\"\n",
        "test_query2 = \"Tell me the maximum donation done by SBF.\""
      ]
    },
    {
      "cell_type": "markdown",
      "metadata": {
        "id": "xe9GURhj3qlK"
      },
      "source": [
        "## Model"
      ]
    },
    {
      "cell_type": "code",
      "execution_count": 135,
      "metadata": {
        "id": "MsDjvPkjHVOU"
      },
      "outputs": [],
      "source": [
        "input_query = \"Tell me the maximum donation done by SBF.\""
      ]
    },
    {
      "cell_type": "code",
      "execution_count": null,
      "metadata": {
        "colab": {
          "base_uri": "https://localhost:8080/"
        },
        "collapsed": true,
        "id": "JmmHJ6sOjCn0",
        "outputId": "d97a1df8-debb-43fa-afb3-927267610a3e"
      },
      "outputs": [],
      "source": [
        "%env OPENAI_API_KEY = \n",
        "\n",
        "from openai import OpenAI\n",
        "client = OpenAI()\n",
        "\n",
        "\n",
        "# Define the prompt\n",
        "prompt = \"Given the samples from data set\\n\" + str(ten_samples) + \"and the data set explanation\" + context + \"translate the following query into valid SQL query\" + input_query\n",
        "\n",
        "message=[\n",
        "    {\n",
        "        \"role\": \"system\", \"content\": \"Given the following SQL tables, your job is to write a syntactically correct SQLite query given a user’s request. Do not return any explanations or comments\\n    \\n \" + table_structure + \"be aware of some tricky part: \\n\" + cautions + \"\\n if you don't klnow the answer, just say I don't know\"\n",
        "    },\n",
        "    {\n",
        "        \"role\": \"assistant\", \"content\": prompt + \"\\n\"\n",
        "    }\n",
        "]\n",
        "\n",
        "\n",
        "response = client.chat.completions.create(\n",
        "    model=\"gpt-4\",\n",
        "    messages = message,\n",
        ")\n",
        "\n",
        "responseText = response.choices[0].message.content\n",
        "\n",
        "\n",
        "print(responseText)\n"
      ]
    },
    {
      "cell_type": "code",
      "execution_count": 137,
      "metadata": {
        "colab": {
          "base_uri": "https://localhost:8080/"
        },
        "id": "532tXwKUBqXs",
        "outputId": "b9030f61-b794-4cdf-f36f-8f8132052f9f"
      },
      "outputs": [
        {
          "name": "stdout",
          "output_type": "stream",
          "text": [
            "SELECT MAX(REPLACE(REPLACE(amount, '$', ''), ',', '')) \n",
            "FROM contributions \n",
            "WHERE contrib LIKE '%BANKMAN-FRIED, SAMUEL%' OR contrib LIKE '%SBF%'\n"
          ]
        }
      ],
      "source": [
        "# Assume new query to be added based on previous output\n",
        "new_query = \"Given the previous prompts and LLM generated queries, check if any of the generated queries is incorrect, if so, fix them. Return only syntactically correct SQLite query, do not return anything else. no explanations or comments\"\n",
        "\n",
        "# Append the new prompt to the conversation history\n",
        "message.append({\n",
        "    \"role\": \"assistant\",\n",
        "    \"content\": new_query\n",
        "})\n",
        "\n",
        "# Request a new completion from the model\n",
        "new_response = client.chat.completions.create(\n",
        "    model=\"gpt-4\",\n",
        "    messages=message\n",
        ")\n",
        "\n",
        "# Print the new response\n",
        "new_response_text = new_response.choices[0].message.content\n",
        "print(new_response_text)\n"
      ]
    },
    {
      "cell_type": "markdown",
      "metadata": {
        "id": "RghGXn_R3hiH"
      },
      "source": [
        "## Notes"
      ]
    }
  ],
  "metadata": {
    "colab": {
      "provenance": [],
      "toc_visible": true
    },
    "kernelspec": {
      "display_name": "Python 3",
      "name": "python3"
    },
    "language_info": {
      "name": "python"
    }
  },
  "nbformat": 4,
  "nbformat_minor": 0
}
